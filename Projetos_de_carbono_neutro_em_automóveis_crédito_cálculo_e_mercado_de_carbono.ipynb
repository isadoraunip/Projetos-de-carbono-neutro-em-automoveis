{
  "nbformat": 4,
  "nbformat_minor": 0,
  "metadata": {
    "colab": {
      "provenance": [],
      "include_colab_link": true
    },
    "kernelspec": {
      "name": "python3",
      "display_name": "Python 3"
    },
    "language_info": {
      "name": "python"
    }
  },
  "cells": [
    {
      "cell_type": "markdown",
      "metadata": {
        "id": "view-in-github",
        "colab_type": "text"
      },
      "source": [
        "<a href=\"https://colab.research.google.com/github/isadoraunip/Projetos-de-carbono-neutro-em-automoveis/blob/main/Projetos_de_carbono_neutro_em_autom%C3%B3veis_cr%C3%A9dito_c%C3%A1lculo_e_mercado_de_carbono.ipynb\" target=\"_parent\"><img src=\"https://colab.research.google.com/assets/colab-badge.svg\" alt=\"Open In Colab\"/></a>"
      ]
    },
    {
      "cell_type": "markdown",
      "source": [],
      "metadata": {
        "id": "9djFw_MpniGs"
      }
    },
    {
      "cell_type": "code",
      "execution_count": null,
      "metadata": {
        "colab": {
          "base_uri": "https://localhost:8080/"
        },
        "id": "C1EDrlhWm-0b",
        "outputId": "603418fc-4390-4b06-f626-babfad343aae"
      },
      "outputs": [
        {
          "output_type": "stream",
          "name": "stdout",
          "text": [
            "Digite a quilometragem rodada por mês:1000\n",
            "Álcool 1.0\n",
            "Álcool 1.5\n",
            "Álcool 2.0\n",
            "Gasolina 1.0\n",
            "Gasolina 1.5\n",
            "Gasolina 2.0\n",
            "Diesel\n",
            "Digite a opção desejada: Gasolina 2.0\n",
            "O consumo em litros do veículo é de: 125.00\n",
            "A quilometragem rodada no mês é: 1000.0\n",
            "A quilometragem rodada no ano é: 12000.0\n",
            "A quantidade emitida de CO2 por mês em toneladas é de: 0.28\n",
            "A quantidade emitida de CO2 por ano em toneladas é de: 3.41\n",
            "Você deverá plantar 1.99 árvores por mês.\n",
            "Você deverá plantar 23.89 árvores por ano.\n"
          ]
        }
      ],
      "source": [
        "quilometragem = float(input(\"Digite a quilometragem rodada por mês:\"))\n",
        "modelocarro = [\"Álcool 1.0\", \"Álcool 1.5\", \"Álcool 2.0\", \"Gasolina 1.0\", \"Gasolina 1.5\", \"Gasolina 2.0\", \"Diesel\"]\n",
        "for tipo in modelocarro:\n",
        "  print(tipo)\n",
        "veiculo = (input(\"Digite a opção desejada: \"))\n",
        "if veiculo == \"Álcool 1.0\":\n",
        "  consumo = float(quilometragem/10)\n",
        "  print(f'O consumo em litros do veículo é de: {consumo:.2f}')\n",
        "elif veiculo == \"Álcool 1.5\":\n",
        "  consumo = float(quilometragem/8)\n",
        "  print(f'O consumo em litros do veículo é de: {consumo:.2f}')\n",
        "elif veiculo == \"Álcool 2.0\":\n",
        "  consumo = float(quilometragem/6)\n",
        "  print(f'O consumo em litros do veículo é de: {consumo:.2f}')\n",
        "elif veiculo == \"Gasolina 1.0\":\n",
        "  consumo = float(quilometragem/12)\n",
        "  print(f'O consumo em litros do veículo é de: {consumo:.2f}')\n",
        "elif veiculo == \"Gasolina 1.5\":\n",
        "  consumo = float(quilometragem/10)\n",
        "  print(f'O consumo em litros do veículo é de: {consumo:.2f}')\n",
        "elif veiculo == \"Gasolina 2.0\":\n",
        "  consumo = float(quilometragem/8)\n",
        "  print(f'O consumo em litros do veículo é de: {consumo:.2f}')\n",
        "elif veiculo == \"Diesel\":\n",
        "  consumo = float(quilometragem/11)\n",
        "  print(f'O consumo em litros do veículo é de: {consumo:.2f}')\n",
        "else:\n",
        "  print(\"Houve um erro de digitação, tente novamente\")\n",
        "print(\"A quilometragem rodada no mês é:\", quilometragem)\n",
        "print(\"A quilometragem rodada no ano é:\", quilometragem * 12)\n",
        "if veiculo == \"Álcool 1.0\":\n",
        "  emissãodeco2 = consumo * 1.87\n",
        "  print((f'A quantidade emitida de CO2 por mês em toneladas é de: {(emissãodeco2 / 1000):.2f}'))\n",
        "elif veiculo == \"Álcool 1.5\":\n",
        "  emissãodeco2 = consumo * 1.87\n",
        "  print((f'A quantidade emitida de CO2 por mês em toneladas é de: {(emissãodeco2 / 1000):.2f}'))\n",
        "elif veiculo == \"Álcool 2.0\":\n",
        "  emissãodeco2 = consumo * 1.87\n",
        "  print((f'A quantidade emitida de CO2 por mês em toneladas é de: {(emissãodeco2 / 1000):.2f}'))\n",
        "elif veiculo == \"Gasolina 1.0\":\n",
        "  emissãodeco2 = consumo * 0.82 * 0.75 * 3.7\n",
        "  print((f'A quantidade emitida de CO2 por mês em toneladas é de: {(emissãodeco2 / 1000):.2f}'))\n",
        "elif veiculo == \"Gasolina 1.5\":\n",
        "  emissãodeco2 = consumo * 0.82 * 0.75 * 3.7\n",
        "  print((f'A quantidade emitida de CO2 por mês em toneladas é de: {(emissãodeco2 / 1000):.2f}'))\n",
        "elif veiculo == \"Gasolina 2.0\":\n",
        "  emissãodeco2 = consumo * 0.82 * 0.75 * 3.7\n",
        "  print((f'A quantidade emitida de CO2 por mês em toneladas é de: {(emissãodeco2 / 1000):.2f}'))\n",
        "elif veiculo == \"Diesel\":\n",
        "  emissãodeco2 = consumo * 0.83 * 3.7\n",
        "  print((f'A quantidade emitida de CO2 por mês em toneladas é de: {(emissãodeco2 / 1000):.2f}'))\n",
        "else:\n",
        "  print(\"Houve um erro de digitação, tente novamente\")\n",
        "print((f'A quantidade emitida de CO2 por ano em toneladas é de: {(emissãodeco2 / 1000 * 12):.2f}'))\n",
        "arvoresplantadas = (emissãodeco2 / 1000) * 7\n",
        "print((f'Você deverá plantar {arvoresplantadas:.2f}'), \"árvores por mês.\") \n",
        "arvoresplantadasano = ((emissãodeco2 / 1000) * 7) * 12 \n",
        "print((f'Você deverá plantar {arvoresplantadasano:.2f}'), \"árvores por ano.\") "
      ]
    }
  ]
}